{
  "nbformat": 4,
  "nbformat_minor": 0,
  "metadata": {
    "kernelspec": {
      "display_name": "Python 3",
      "language": "python",
      "name": "python3"
    },
    "language_info": {
      "codemirror_mode": {
        "name": "ipython",
        "version": 3
      },
      "file_extension": ".py",
      "mimetype": "text/x-python",
      "name": "python",
      "nbconvert_exporter": "python",
      "pygments_lexer": "ipython3",
      "version": "3.7.4"
    },
    "colab": {
      "name": "Movie_Review.ipynb",
      "provenance": [],
      "collapsed_sections": [
        "YWH90JitE8he",
        "5-kerBXu9YrX",
        "rSsveSUN9dTj",
        "g-cALZUN9hX8",
        "Hp_fEMuXE8if",
        "nsfoillUE8io",
        "W2MJD1Lf9N59",
        "V9aYYcaZ9lOb",
        "sv7w_kmk9oJI",
        "XBeSq0KB9qtL",
        "DAm-1qvd9wx-"
      ],
      "machine_shape": "hm"
    }
  },
  "cells": [
    {
      "cell_type": "markdown",
      "metadata": {
        "id": "YWH90JitE8he",
        "colab_type": "text"
      },
      "source": [
        "# Importing Libraries"
      ]
    },
    {
      "cell_type": "code",
      "metadata": {
        "id": "fqK26r6RE8hg",
        "colab_type": "code",
        "colab": {}
      },
      "source": [
        "import numpy as np\n",
        "import pandas as pd\n",
        "from sklearn.feature_extraction.text import TfidfVectorizer,CountVectorizer,TfidfTransformer\n",
        "from sklearn.svm import SVC\n",
        "from sklearn.naive_bayes import GaussianNB,MultinomialNB\n",
        "from sklearn.model_selection import train_test_split\n",
        "from sklearn.linear_model import SGDClassifier,LogisticRegression\n",
        "from sklearn.metrics import accuracy_score,classification_report,confusion_matrix\n",
        "\n",
        "from sklearn.svm import LinearSVC,SVC"
      ],
      "execution_count": 0,
      "outputs": []
    },
    {
      "cell_type": "markdown",
      "metadata": {
        "id": "5-kerBXu9YrX",
        "colab_type": "text"
      },
      "source": [
        "# Loading dataset in colab from GoogleDrive"
      ]
    },
    {
      "cell_type": "code",
      "metadata": {
        "id": "EA_B3DS1FZT0",
        "colab_type": "code",
        "colab": {}
      },
      "source": [
        "from pydrive.auth import GoogleAuth\n",
        "from pydrive.drive import GoogleDrive\n",
        "from google.colab import auth\n",
        "from oauth2client.client import GoogleCredentials\n"
      ],
      "execution_count": 0,
      "outputs": []
    },
    {
      "cell_type": "code",
      "metadata": {
        "id": "ZUGxFQHuFZON",
        "colab_type": "code",
        "colab": {}
      },
      "source": [
        "auth.authenticate_user()\n",
        "gauth = GoogleAuth()\n",
        "gauth.credentials = GoogleCredentials.get_application_default()\n",
        "drive = GoogleDrive(gauth)"
      ],
      "execution_count": 0,
      "outputs": []
    },
    {
      "cell_type": "code",
      "metadata": {
        "id": "sJwdDc--HD_U",
        "colab_type": "code",
        "colab": {}
      },
      "source": [
        "file_id = '15R4-hhDrghD3QmBcr5MYdk4kWf433l3y'\n",
        "downloaded = drive.CreateFile({'id':file_id})\n",
        "downloaded.GetContentFile('IMDB Dataset.csv')"
      ],
      "execution_count": 0,
      "outputs": []
    },
    {
      "cell_type": "code",
      "metadata": {
        "id": "ncecgOQ9HV4B",
        "colab_type": "code",
        "outputId": "226fbfab-5757-4bf9-b245-e6cb5dfaa8e6",
        "colab": {
          "base_uri": "https://localhost:8080/",
          "height": 34
        }
      },
      "source": [
        "!ls"
      ],
      "execution_count": 6,
      "outputs": [
        {
          "output_type": "stream",
          "text": [
            " adc.json  'IMDB Dataset.csv'   sample_data\n"
          ],
          "name": "stdout"
        }
      ]
    },
    {
      "cell_type": "code",
      "metadata": {
        "id": "6IdtwrREHV0c",
        "colab_type": "code",
        "colab": {}
      },
      "source": [
        ""
      ],
      "execution_count": 0,
      "outputs": []
    },
    {
      "cell_type": "code",
      "metadata": {
        "id": "q4qPVLdJHVjE",
        "colab_type": "code",
        "colab": {}
      },
      "source": [
        ""
      ],
      "execution_count": 0,
      "outputs": []
    },
    {
      "cell_type": "markdown",
      "metadata": {
        "id": "rSsveSUN9dTj",
        "colab_type": "text"
      },
      "source": [
        "# Analyzing Dataset"
      ]
    },
    {
      "cell_type": "code",
      "metadata": {
        "id": "g5BGsHmZE8ho",
        "colab_type": "code",
        "colab": {}
      },
      "source": [
        "data = pd.read_csv('IMDB Dataset.csv')"
      ],
      "execution_count": 0,
      "outputs": []
    },
    {
      "cell_type": "code",
      "metadata": {
        "id": "f0DEFDbxE8hu",
        "colab_type": "code",
        "outputId": "84be5396-aa1b-406f-be93-430269a0daf1",
        "colab": {
          "base_uri": "https://localhost:8080/",
          "height": 204
        }
      },
      "source": [
        "data.head()"
      ],
      "execution_count": 8,
      "outputs": [
        {
          "output_type": "execute_result",
          "data": {
            "text/html": [
              "<div>\n",
              "<style scoped>\n",
              "    .dataframe tbody tr th:only-of-type {\n",
              "        vertical-align: middle;\n",
              "    }\n",
              "\n",
              "    .dataframe tbody tr th {\n",
              "        vertical-align: top;\n",
              "    }\n",
              "\n",
              "    .dataframe thead th {\n",
              "        text-align: right;\n",
              "    }\n",
              "</style>\n",
              "<table border=\"1\" class=\"dataframe\">\n",
              "  <thead>\n",
              "    <tr style=\"text-align: right;\">\n",
              "      <th></th>\n",
              "      <th>review</th>\n",
              "      <th>sentiment</th>\n",
              "    </tr>\n",
              "  </thead>\n",
              "  <tbody>\n",
              "    <tr>\n",
              "      <th>0</th>\n",
              "      <td>One of the other reviewers has mentioned that ...</td>\n",
              "      <td>positive</td>\n",
              "    </tr>\n",
              "    <tr>\n",
              "      <th>1</th>\n",
              "      <td>A wonderful little production. &lt;br /&gt;&lt;br /&gt;The...</td>\n",
              "      <td>positive</td>\n",
              "    </tr>\n",
              "    <tr>\n",
              "      <th>2</th>\n",
              "      <td>I thought this was a wonderful way to spend ti...</td>\n",
              "      <td>positive</td>\n",
              "    </tr>\n",
              "    <tr>\n",
              "      <th>3</th>\n",
              "      <td>Basically there's a family where a little boy ...</td>\n",
              "      <td>negative</td>\n",
              "    </tr>\n",
              "    <tr>\n",
              "      <th>4</th>\n",
              "      <td>Petter Mattei's \"Love in the Time of Money\" is...</td>\n",
              "      <td>positive</td>\n",
              "    </tr>\n",
              "  </tbody>\n",
              "</table>\n",
              "</div>"
            ],
            "text/plain": [
              "                                              review sentiment\n",
              "0  One of the other reviewers has mentioned that ...  positive\n",
              "1  A wonderful little production. <br /><br />The...  positive\n",
              "2  I thought this was a wonderful way to spend ti...  positive\n",
              "3  Basically there's a family where a little boy ...  negative\n",
              "4  Petter Mattei's \"Love in the Time of Money\" is...  positive"
            ]
          },
          "metadata": {
            "tags": []
          },
          "execution_count": 8
        }
      ]
    },
    {
      "cell_type": "code",
      "metadata": {
        "id": "B0Qv3O9JE8hz",
        "colab_type": "code",
        "outputId": "bb1532bb-f9a6-486f-fb99-177b25e9beaf",
        "colab": {
          "base_uri": "https://localhost:8080/",
          "height": 34
        }
      },
      "source": [
        "data.shape"
      ],
      "execution_count": 9,
      "outputs": [
        {
          "output_type": "execute_result",
          "data": {
            "text/plain": [
              "(50000, 2)"
            ]
          },
          "metadata": {
            "tags": []
          },
          "execution_count": 9
        }
      ]
    },
    {
      "cell_type": "code",
      "metadata": {
        "id": "f_EKib4AE8h6",
        "colab_type": "code",
        "outputId": "f1f7c0c6-76f1-407b-f881-e80627a76ede",
        "colab": {
          "base_uri": "https://localhost:8080/",
          "height": 68
        }
      },
      "source": [
        "data.isnull().sum()"
      ],
      "execution_count": 10,
      "outputs": [
        {
          "output_type": "execute_result",
          "data": {
            "text/plain": [
              "review       0\n",
              "sentiment    0\n",
              "dtype: int64"
            ]
          },
          "metadata": {
            "tags": []
          },
          "execution_count": 10
        }
      ]
    },
    {
      "cell_type": "code",
      "metadata": {
        "id": "qvTaIGWIE8h-",
        "colab_type": "code",
        "outputId": "d9300962-1733-4894-c55e-7ce7330fc60a",
        "colab": {
          "base_uri": "https://localhost:8080/",
          "height": 68
        }
      },
      "source": [
        "data.isna().sum()"
      ],
      "execution_count": 11,
      "outputs": [
        {
          "output_type": "execute_result",
          "data": {
            "text/plain": [
              "review       0\n",
              "sentiment    0\n",
              "dtype: int64"
            ]
          },
          "metadata": {
            "tags": []
          },
          "execution_count": 11
        }
      ]
    },
    {
      "cell_type": "code",
      "metadata": {
        "id": "NUxxXaOdE8iD",
        "colab_type": "code",
        "outputId": "9257575f-efee-42d9-f7a8-cc31f512db84",
        "colab": {
          "base_uri": "https://localhost:8080/",
          "height": 142
        }
      },
      "source": [
        "data.groupby('sentiment').count()"
      ],
      "execution_count": 12,
      "outputs": [
        {
          "output_type": "execute_result",
          "data": {
            "text/html": [
              "<div>\n",
              "<style scoped>\n",
              "    .dataframe tbody tr th:only-of-type {\n",
              "        vertical-align: middle;\n",
              "    }\n",
              "\n",
              "    .dataframe tbody tr th {\n",
              "        vertical-align: top;\n",
              "    }\n",
              "\n",
              "    .dataframe thead th {\n",
              "        text-align: right;\n",
              "    }\n",
              "</style>\n",
              "<table border=\"1\" class=\"dataframe\">\n",
              "  <thead>\n",
              "    <tr style=\"text-align: right;\">\n",
              "      <th></th>\n",
              "      <th>review</th>\n",
              "    </tr>\n",
              "    <tr>\n",
              "      <th>sentiment</th>\n",
              "      <th></th>\n",
              "    </tr>\n",
              "  </thead>\n",
              "  <tbody>\n",
              "    <tr>\n",
              "      <th>negative</th>\n",
              "      <td>25000</td>\n",
              "    </tr>\n",
              "    <tr>\n",
              "      <th>positive</th>\n",
              "      <td>25000</td>\n",
              "    </tr>\n",
              "  </tbody>\n",
              "</table>\n",
              "</div>"
            ],
            "text/plain": [
              "           review\n",
              "sentiment        \n",
              "negative    25000\n",
              "positive    25000"
            ]
          },
          "metadata": {
            "tags": []
          },
          "execution_count": 12
        }
      ]
    },
    {
      "cell_type": "code",
      "metadata": {
        "id": "uy-8zCdb3u6t",
        "colab_type": "code",
        "colab": {}
      },
      "source": [
        "blanks = []\n",
        "for i,re,sen in data.itertuples():\n",
        "  if(re.isspace()):\n",
        "    blank.append(i)"
      ],
      "execution_count": 0,
      "outputs": []
    },
    {
      "cell_type": "code",
      "metadata": {
        "id": "FvRwM73L4A7Z",
        "colab_type": "code",
        "colab": {
          "base_uri": "https://localhost:8080/",
          "height": 34
        },
        "outputId": "75df4054-1814-4599-c62f-152b18e8f635"
      },
      "source": [
        "len(blanks)"
      ],
      "execution_count": 14,
      "outputs": [
        {
          "output_type": "execute_result",
          "data": {
            "text/plain": [
              "0"
            ]
          },
          "metadata": {
            "tags": []
          },
          "execution_count": 14
        }
      ]
    },
    {
      "cell_type": "markdown",
      "metadata": {
        "id": "g-cALZUN9hX8",
        "colab_type": "text"
      },
      "source": [
        "# Splitting into X & Y"
      ]
    },
    {
      "cell_type": "code",
      "metadata": {
        "id": "rI7XOLMOE8iL",
        "colab_type": "code",
        "colab": {}
      },
      "source": [
        "X = data['review']"
      ],
      "execution_count": 0,
      "outputs": []
    },
    {
      "cell_type": "code",
      "metadata": {
        "id": "Dd4uID_qE8iQ",
        "colab_type": "code",
        "colab": {}
      },
      "source": [
        "Y = data['sentiment']"
      ],
      "execution_count": 0,
      "outputs": []
    },
    {
      "cell_type": "code",
      "metadata": {
        "id": "kvCiPNU8E8iT",
        "colab_type": "code",
        "outputId": "248186b6-55da-4f9e-c5c1-41a1e45c0b6d",
        "colab": {
          "base_uri": "https://localhost:8080/",
          "height": 34
        }
      },
      "source": [
        "print(X.shape,Y.shape)"
      ],
      "execution_count": 17,
      "outputs": [
        {
          "output_type": "stream",
          "text": [
            "(50000,) (50000,)\n"
          ],
          "name": "stdout"
        }
      ]
    },
    {
      "cell_type": "code",
      "metadata": {
        "id": "vo6didhUE8iZ",
        "colab_type": "code",
        "outputId": "0eb381f6-320c-4f0d-e911-37794707c493",
        "colab": {
          "base_uri": "https://localhost:8080/",
          "height": 142
        }
      },
      "source": [
        "data.groupby('sentiment').count()"
      ],
      "execution_count": 18,
      "outputs": [
        {
          "output_type": "execute_result",
          "data": {
            "text/html": [
              "<div>\n",
              "<style scoped>\n",
              "    .dataframe tbody tr th:only-of-type {\n",
              "        vertical-align: middle;\n",
              "    }\n",
              "\n",
              "    .dataframe tbody tr th {\n",
              "        vertical-align: top;\n",
              "    }\n",
              "\n",
              "    .dataframe thead th {\n",
              "        text-align: right;\n",
              "    }\n",
              "</style>\n",
              "<table border=\"1\" class=\"dataframe\">\n",
              "  <thead>\n",
              "    <tr style=\"text-align: right;\">\n",
              "      <th></th>\n",
              "      <th>review</th>\n",
              "    </tr>\n",
              "    <tr>\n",
              "      <th>sentiment</th>\n",
              "      <th></th>\n",
              "    </tr>\n",
              "  </thead>\n",
              "  <tbody>\n",
              "    <tr>\n",
              "      <th>negative</th>\n",
              "      <td>25000</td>\n",
              "    </tr>\n",
              "    <tr>\n",
              "      <th>positive</th>\n",
              "      <td>25000</td>\n",
              "    </tr>\n",
              "  </tbody>\n",
              "</table>\n",
              "</div>"
            ],
            "text/plain": [
              "           review\n",
              "sentiment        \n",
              "negative    25000\n",
              "positive    25000"
            ]
          },
          "metadata": {
            "tags": []
          },
          "execution_count": 18
        }
      ]
    },
    {
      "cell_type": "markdown",
      "metadata": {
        "id": "Hp_fEMuXE8if",
        "colab_type": "text"
      },
      "source": [
        "# Train-Test Split"
      ]
    },
    {
      "cell_type": "code",
      "metadata": {
        "id": "8kshIHGqE8ig",
        "colab_type": "code",
        "colab": {}
      },
      "source": [
        "X_train,X_test,Y_train,Y_test = train_test_split(X,Y,random_state=0,stratify=Y)"
      ],
      "execution_count": 0,
      "outputs": []
    },
    {
      "cell_type": "code",
      "metadata": {
        "id": "6XYTNRyqE8ik",
        "colab_type": "code",
        "outputId": "2242e9b7-ce38-4dc7-cefa-8c3c77528a08",
        "colab": {
          "base_uri": "https://localhost:8080/",
          "height": 34
        }
      },
      "source": [
        "print(X_train.shape,X_test.shape,Y_train.shape,Y_test.shape)"
      ],
      "execution_count": 20,
      "outputs": [
        {
          "output_type": "stream",
          "text": [
            "(37500,) (12500,) (37500,) (12500,)\n"
          ],
          "name": "stdout"
        }
      ]
    },
    {
      "cell_type": "markdown",
      "metadata": {
        "id": "nsfoillUE8io",
        "colab_type": "text"
      },
      "source": [
        "# TFIDF & Vectorization"
      ]
    },
    {
      "cell_type": "code",
      "metadata": {
        "id": "u3e_p46xE8ip",
        "colab_type": "code",
        "colab": {}
      },
      "source": [
        "tfidf_vect = TfidfVectorizer(stop_words='english')"
      ],
      "execution_count": 0,
      "outputs": []
    },
    {
      "cell_type": "code",
      "metadata": {
        "id": "y4Qo38uhE8iw",
        "colab_type": "code",
        "colab": {}
      },
      "source": [
        "X_train_vect = tfidf_vect.fit_transform(X_train)"
      ],
      "execution_count": 0,
      "outputs": []
    },
    {
      "cell_type": "code",
      "metadata": {
        "id": "gKZaruOcE8i0",
        "colab_type": "code",
        "outputId": "51cc1236-e65e-4604-83bf-0ef3a10542d6",
        "colab": {
          "base_uri": "https://localhost:8080/",
          "height": 34
        }
      },
      "source": [
        "print(X_train_vect.shape)"
      ],
      "execution_count": 23,
      "outputs": [
        {
          "output_type": "stream",
          "text": [
            "(37500, 90103)\n"
          ],
          "name": "stdout"
        }
      ]
    },
    {
      "cell_type": "code",
      "metadata": {
        "id": "oM5-trmbE8i5",
        "colab_type": "code",
        "colab": {}
      },
      "source": [
        "X_test_vect = tfidf_vect.transform(X_test)"
      ],
      "execution_count": 0,
      "outputs": []
    },
    {
      "cell_type": "code",
      "metadata": {
        "id": "EihjmN2nE8jB",
        "colab_type": "code",
        "outputId": "fd0c716c-6432-4558-9f39-9940f7a1ade6",
        "colab": {
          "base_uri": "https://localhost:8080/",
          "height": 34
        }
      },
      "source": [
        "print(X_test_vect.shape)"
      ],
      "execution_count": 25,
      "outputs": [
        {
          "output_type": "stream",
          "text": [
            "(12500, 90103)\n"
          ],
          "name": "stdout"
        }
      ]
    },
    {
      "cell_type": "markdown",
      "metadata": {
        "id": "W2MJD1Lf9N59",
        "colab_type": "text"
      },
      "source": [
        "# Models"
      ]
    },
    {
      "cell_type": "markdown",
      "metadata": {
        "id": "V9aYYcaZ9lOb",
        "colab_type": "text"
      },
      "source": [
        "## SVM"
      ]
    },
    {
      "cell_type": "code",
      "metadata": {
        "id": "s5UyVgeWMwM7",
        "colab_type": "code",
        "colab": {}
      },
      "source": [
        "svm = LinearSVC()"
      ],
      "execution_count": 0,
      "outputs": []
    },
    {
      "cell_type": "code",
      "metadata": {
        "id": "dgDZ3k_OQnpt",
        "colab_type": "code",
        "outputId": "09127ef6-b3f4-4d48-a31b-b47ad1788af2",
        "colab": {
          "base_uri": "https://localhost:8080/",
          "height": 85
        }
      },
      "source": [
        "svm.fit(X_train_vect,Y_train)"
      ],
      "execution_count": 33,
      "outputs": [
        {
          "output_type": "execute_result",
          "data": {
            "text/plain": [
              "LinearSVC(C=1.0, class_weight=None, dual=True, fit_intercept=True,\n",
              "          intercept_scaling=1, loss='squared_hinge', max_iter=1000,\n",
              "          multi_class='ovr', penalty='l2', random_state=None, tol=0.0001,\n",
              "          verbose=0)"
            ]
          },
          "metadata": {
            "tags": []
          },
          "execution_count": 33
        }
      ]
    },
    {
      "cell_type": "code",
      "metadata": {
        "id": "TSZASmSVQr7T",
        "colab_type": "code",
        "outputId": "31a23489-269c-42c5-e42d-87301576feba",
        "colab": {
          "base_uri": "https://localhost:8080/",
          "height": 51
        }
      },
      "source": [
        "Y_pred_train = svm.predict(X_train_vect)\n",
        "accuracy_train = accuracy_score(Y_train,Y_pred_train)\n",
        "Y_pred_test = svm.predict(X_test_vect)\n",
        "accuracy_test = accuracy_score(Y_test,Y_pred_test)\n",
        "print('Training Accuacy',(accuracy_train))\n",
        "print('Testing Accuacy',(accuracy_test))"
      ],
      "execution_count": 34,
      "outputs": [
        {
          "output_type": "stream",
          "text": [
            "Training Accuacy 0.9890666666666666\n",
            "Testing Accuacy 0.89496\n"
          ],
          "name": "stdout"
        }
      ]
    },
    {
      "cell_type": "code",
      "metadata": {
        "id": "ukhcs6WY4gOS",
        "colab_type": "code",
        "colab": {
          "base_uri": "https://localhost:8080/",
          "height": 170
        },
        "outputId": "6447a59b-a2b4-4ed0-eefd-f80429722eef"
      },
      "source": [
        "print(classification_report(Y_train,Y_pred_train))"
      ],
      "execution_count": 35,
      "outputs": [
        {
          "output_type": "stream",
          "text": [
            "              precision    recall  f1-score   support\n",
            "\n",
            "    negative       0.99      0.99      0.99     18750\n",
            "    positive       0.99      0.99      0.99     18750\n",
            "\n",
            "    accuracy                           0.99     37500\n",
            "   macro avg       0.99      0.99      0.99     37500\n",
            "weighted avg       0.99      0.99      0.99     37500\n",
            "\n"
          ],
          "name": "stdout"
        }
      ]
    },
    {
      "cell_type": "code",
      "metadata": {
        "id": "w0oZFxh94su0",
        "colab_type": "code",
        "colab": {
          "base_uri": "https://localhost:8080/",
          "height": 170
        },
        "outputId": "32ad3dc8-be6f-43a9-b07e-103b08c2fa03"
      },
      "source": [
        "print(classification_report(Y_test,Y_pred_test))"
      ],
      "execution_count": 36,
      "outputs": [
        {
          "output_type": "stream",
          "text": [
            "              precision    recall  f1-score   support\n",
            "\n",
            "    negative       0.90      0.89      0.89      6250\n",
            "    positive       0.89      0.90      0.90      6250\n",
            "\n",
            "    accuracy                           0.89     12500\n",
            "   macro avg       0.90      0.89      0.89     12500\n",
            "weighted avg       0.90      0.89      0.89     12500\n",
            "\n"
          ],
          "name": "stdout"
        }
      ]
    },
    {
      "cell_type": "code",
      "metadata": {
        "id": "l7-gYu2G9nZk",
        "colab_type": "code",
        "colab": {}
      },
      "source": [
        ""
      ],
      "execution_count": 0,
      "outputs": []
    },
    {
      "cell_type": "markdown",
      "metadata": {
        "id": "sv7w_kmk9oJI",
        "colab_type": "text"
      },
      "source": [
        "## Naive-Bayes"
      ]
    },
    {
      "cell_type": "code",
      "metadata": {
        "id": "viS_dOX1Q1Yu",
        "colab_type": "code",
        "colab": {
          "base_uri": "https://localhost:8080/",
          "height": 34
        },
        "outputId": "a596fee1-2ad3-420a-8f62-c5fce8d3bc73"
      },
      "source": [
        "mnb = MultinomialNB()\n",
        "mnb.fit(X_train_vect,Y_train)"
      ],
      "execution_count": 37,
      "outputs": [
        {
          "output_type": "execute_result",
          "data": {
            "text/plain": [
              "MultinomialNB(alpha=1.0, class_prior=None, fit_prior=True)"
            ]
          },
          "metadata": {
            "tags": []
          },
          "execution_count": 37
        }
      ]
    },
    {
      "cell_type": "code",
      "metadata": {
        "id": "0kooOf2nQ__d",
        "colab_type": "code",
        "colab": {
          "base_uri": "https://localhost:8080/",
          "height": 51
        },
        "outputId": "253da322-ed78-43e3-d943-eb85b32dd198"
      },
      "source": [
        "Y_pred_train = mnb.predict(X_train_vect)\n",
        "accuracy_train = accuracy_score(Y_train,Y_pred_train)\n",
        "Y_pred_test = mnb.predict(X_test_vect)\n",
        "accuracy_test = accuracy_score(Y_test,Y_pred_test)\n",
        "print('Training Accuacy',(accuracy_train))\n",
        "print('Testing Accuacy',(accuracy_test))"
      ],
      "execution_count": 38,
      "outputs": [
        {
          "output_type": "stream",
          "text": [
            "Training Accuacy 0.9082133333333333\n",
            "Testing Accuacy 0.86384\n"
          ],
          "name": "stdout"
        }
      ]
    },
    {
      "cell_type": "code",
      "metadata": {
        "id": "lTt5BYwSRBWa",
        "colab_type": "code",
        "colab": {
          "base_uri": "https://localhost:8080/",
          "height": 170
        },
        "outputId": "5e4f9a46-f669-45a2-f15f-181b79e7b8e2"
      },
      "source": [
        "print(classification_report(Y_test,Y_pred_test))"
      ],
      "execution_count": 39,
      "outputs": [
        {
          "output_type": "stream",
          "text": [
            "              precision    recall  f1-score   support\n",
            "\n",
            "    negative       0.85      0.88      0.87      6250\n",
            "    positive       0.87      0.85      0.86      6250\n",
            "\n",
            "    accuracy                           0.86     12500\n",
            "   macro avg       0.86      0.86      0.86     12500\n",
            "weighted avg       0.86      0.86      0.86     12500\n",
            "\n"
          ],
          "name": "stdout"
        }
      ]
    },
    {
      "cell_type": "markdown",
      "metadata": {
        "id": "XBeSq0KB9qtL",
        "colab_type": "text"
      },
      "source": [
        "## SGDC & Logistic Regression"
      ]
    },
    {
      "cell_type": "code",
      "metadata": {
        "id": "OYGHp9DS4zp9",
        "colab_type": "code",
        "colab": {
          "base_uri": "https://localhost:8080/",
          "height": 119
        },
        "outputId": "2dee5d7a-0aa6-4fc1-b7ee-cba8079adebc"
      },
      "source": [
        "sgd = SGDClassifier()\n",
        "sgd.fit(X_train_vect,Y_train)"
      ],
      "execution_count": 41,
      "outputs": [
        {
          "output_type": "execute_result",
          "data": {
            "text/plain": [
              "SGDClassifier(alpha=0.0001, average=False, class_weight=None,\n",
              "              early_stopping=False, epsilon=0.1, eta0=0.0, fit_intercept=True,\n",
              "              l1_ratio=0.15, learning_rate='optimal', loss='hinge',\n",
              "              max_iter=1000, n_iter_no_change=5, n_jobs=None, penalty='l2',\n",
              "              power_t=0.5, random_state=None, shuffle=True, tol=0.001,\n",
              "              validation_fraction=0.1, verbose=0, warm_start=False)"
            ]
          },
          "metadata": {
            "tags": []
          },
          "execution_count": 41
        }
      ]
    },
    {
      "cell_type": "code",
      "metadata": {
        "id": "Nv9Ysubm5JpB",
        "colab_type": "code",
        "colab": {
          "base_uri": "https://localhost:8080/",
          "height": 51
        },
        "outputId": "1e7f34ad-b534-411b-b573-b5b3e8509035"
      },
      "source": [
        "Y_pred_train = sgd.predict(X_train_vect)\n",
        "accuracy_train = accuracy_score(Y_train,Y_pred_train)\n",
        "Y_pred_test = sgd.predict(X_test_vect)\n",
        "accuracy_test = accuracy_score(Y_test,Y_pred_test)\n",
        "print('Training Accuacy',(accuracy_train))\n",
        "print('Testing Accuacy',(accuracy_test))"
      ],
      "execution_count": 42,
      "outputs": [
        {
          "output_type": "stream",
          "text": [
            "Training Accuacy 0.9289066666666667\n",
            "Testing Accuacy 0.89384\n"
          ],
          "name": "stdout"
        }
      ]
    },
    {
      "cell_type": "code",
      "metadata": {
        "id": "HjMdNTNO5OjO",
        "colab_type": "code",
        "colab": {
          "base_uri": "https://localhost:8080/",
          "height": 102
        },
        "outputId": "32d4dfca-ed75-46c3-9d8f-817c5622ded1"
      },
      "source": [
        "lr = LogisticRegression()\n",
        "lr.fit(X_train_vect,Y_train)"
      ],
      "execution_count": 43,
      "outputs": [
        {
          "output_type": "execute_result",
          "data": {
            "text/plain": [
              "LogisticRegression(C=1.0, class_weight=None, dual=False, fit_intercept=True,\n",
              "                   intercept_scaling=1, l1_ratio=None, max_iter=100,\n",
              "                   multi_class='auto', n_jobs=None, penalty='l2',\n",
              "                   random_state=None, solver='lbfgs', tol=0.0001, verbose=0,\n",
              "                   warm_start=False)"
            ]
          },
          "metadata": {
            "tags": []
          },
          "execution_count": 43
        }
      ]
    },
    {
      "cell_type": "code",
      "metadata": {
        "id": "gYP23t3t5W4X",
        "colab_type": "code",
        "colab": {
          "base_uri": "https://localhost:8080/",
          "height": 51
        },
        "outputId": "6cff1db4-0a55-436f-d4c6-ad257153c8c8"
      },
      "source": [
        "Y_pred_train = sgd.predict(X_train_vect)\n",
        "accuracy_train = accuracy_score(Y_train,Y_pred_train)\n",
        "Y_pred_test = sgd.predict(X_test_vect)\n",
        "accuracy_test = accuracy_score(Y_test,Y_pred_test)\n",
        "print('Training Accuacy',(accuracy_train))\n",
        "print('Testing Accuacy',(accuracy_test))"
      ],
      "execution_count": 44,
      "outputs": [
        {
          "output_type": "stream",
          "text": [
            "Training Accuacy 0.9289066666666667\n",
            "Testing Accuacy 0.89384\n"
          ],
          "name": "stdout"
        }
      ]
    },
    {
      "cell_type": "markdown",
      "metadata": {
        "id": "DAm-1qvd9wx-",
        "colab_type": "text"
      },
      "source": [
        "# Testing on actual reviews"
      ]
    },
    {
      "cell_type": "code",
      "metadata": {
        "id": "7_1Nmoi35Ysm",
        "colab_type": "code",
        "colab": {}
      },
      "source": [
        "myreview = [\"This is just awesome movie. I love it. Must Watch.\"]"
      ],
      "execution_count": 0,
      "outputs": []
    },
    {
      "cell_type": "code",
      "metadata": {
        "id": "KrbzGYL45xxM",
        "colab_type": "code",
        "colab": {}
      },
      "source": [
        "myreview_vect = tfidf_vect.transform(myreview)"
      ],
      "execution_count": 0,
      "outputs": []
    },
    {
      "cell_type": "code",
      "metadata": {
        "id": "S2QMuMUp55Zc",
        "colab_type": "code",
        "colab": {
          "base_uri": "https://localhost:8080/",
          "height": 34
        },
        "outputId": "1822a310-a7a1-407b-aaf6-912b19485dc5"
      },
      "source": [
        "print(svm.predict(myreview_vect))"
      ],
      "execution_count": 50,
      "outputs": [
        {
          "output_type": "stream",
          "text": [
            "['positive']\n"
          ],
          "name": "stdout"
        }
      ]
    },
    {
      "cell_type": "code",
      "metadata": {
        "id": "DQNcUvuE6GI_",
        "colab_type": "code",
        "colab": {}
      },
      "source": [
        "myreview = [\"I don't think this was a great movie. Maybe the actors could have better. Not worst but not best either.\"]"
      ],
      "execution_count": 0,
      "outputs": []
    },
    {
      "cell_type": "code",
      "metadata": {
        "id": "uBqbn6RW6QOf",
        "colab_type": "code",
        "colab": {}
      },
      "source": [
        "myreview_vect = tfidf_vect.transform(myreview)"
      ],
      "execution_count": 0,
      "outputs": []
    },
    {
      "cell_type": "code",
      "metadata": {
        "id": "UZSoTsoG6RqW",
        "colab_type": "code",
        "colab": {
          "base_uri": "https://localhost:8080/",
          "height": 34
        },
        "outputId": "baebb3b2-c5b8-41b8-d606-04124bab68d5"
      },
      "source": [
        "print(svm.predict(myreview_vect))"
      ],
      "execution_count": 53,
      "outputs": [
        {
          "output_type": "stream",
          "text": [
            "['negative']\n"
          ],
          "name": "stdout"
        }
      ]
    },
    {
      "cell_type": "markdown",
      "metadata": {
        "id": "vgFIRVxZ934J",
        "colab_type": "text"
      },
      "source": [
        "## Movie review from website which showed around 3.5 ratings."
      ]
    },
    {
      "cell_type": "code",
      "metadata": {
        "id": "en8mhsb16S4Y",
        "colab_type": "code",
        "colab": {}
      },
      "source": [
        "myreview = [\"Advait meets Sara during his trip to Goa. While he is a bit of an introvert, she is a free-spirited girl from London, who is visiting India for the first time and wants to live life to the fullest. They are instantly attracted to each other and make a pact to make the most of their time together. All is well until a twist in the tale sends their lives spinning out of control. Five years later, Advait goes on a killing spree on Christmas night. Anjaney Agashe, a police officer who often doesn’t follow the law, and Michael Rodrigues, a seemingly righteous cop, are now on his trail. They go on a mad hunt for him. Uncovering the reasons behind Advait's actions is what the rest of the film is about.Aditya impresses in the role of a guy whose life goes through a major upheaval. He shows restraint and finesses in his performance. The actor’s physical transformation adds weight to all the kicks and punches he pulls in the film. Disha Patani looks stunning and makes most of her role, which is unlike any character she has played so far. The chemistry between the lead pair is infectious. The ever-reliable Anil Kapoor is in top form and stuns in another interesting act. He walks the fine line between being flamboyant and over-the-top with ease. Kunal Kemmu is sincere and surprising in equal parts.Director Mohit Suri maintains a steady grip on the narrative for most parts. In this film, none of his characters are unidimensional, which makes them interesting. The film begins well with a power-packed action scene, and dives straight into the drama. What it does lack is a tighter edit and dialogues that could elevate the narrative. Though there are two interesting twists in the plot, they aren’t as big a surprise as they should have been, which take away from its thrill quotient. The music proves to be one of its strong points, especially the title track, which stays with you even after you leave the theatre.\"]"
      ],
      "execution_count": 0,
      "outputs": []
    },
    {
      "cell_type": "code",
      "metadata": {
        "id": "3CJDzKoh6o2V",
        "colab_type": "code",
        "colab": {}
      },
      "source": [
        "myreview_vect = tfidf_vect.transform(myreview)"
      ],
      "execution_count": 0,
      "outputs": []
    },
    {
      "cell_type": "code",
      "metadata": {
        "id": "YHyMzD9q6qTr",
        "colab_type": "code",
        "colab": {
          "base_uri": "https://localhost:8080/",
          "height": 34
        },
        "outputId": "27a39bd4-a537-4f40-d0d2-a5a29af0ea0c"
      },
      "source": [
        "print(svm.predict(myreview_vect))"
      ],
      "execution_count": 56,
      "outputs": [
        {
          "output_type": "stream",
          "text": [
            "['positive']\n"
          ],
          "name": "stdout"
        }
      ]
    },
    {
      "cell_type": "markdown",
      "metadata": {
        "id": "dUKHk8zK7Lxw",
        "colab_type": "text"
      },
      "source": [
        "## 1-star review picked from google."
      ]
    },
    {
      "cell_type": "code",
      "metadata": {
        "id": "fEhNEoxA6rmJ",
        "colab_type": "code",
        "colab": {}
      },
      "source": [
        "myreview = [\"All that I took from Malang was its beautiful songs and Anil Kapoor's madcap, lunatic performance. The rest is like cosmetic surgery, beautiful to look at, how hollow, plastic and unconvincing inside. There is not a moment or even a half moment that kept me engaged in the first half, the dead Adiyta Roy Kapur-Disha Patani chemistry doesn't help either. Deep cleavage shows and toned bodies don't make chemistry alone. There are some random interesting ideas on revenge, fear to be in a relationship, the idea of freedom and abandon, but the director doesn't even attempt exploring anything in depth. Nothing sticks and despite the twist in the end, nothing touches, relates or stings.  Goa as a land of drug addicts, encounter-crazy and prostitution-engaging cops, is not exactly for a tourist brochure, nor does this dark depiction add any intended edge to the movie. Malang is a typical \\\"filmy\\\" Hindi movie that we had forgotten existed in the alternate small town-set cinema wave. Yes they exist. A word in for the talented, underrated Kunal Khemu, who is a victim of a underwritten part. If you love hearing beautiful songs while watching a dead slab of a movie, this is it. \"]"
      ],
      "execution_count": 0,
      "outputs": []
    },
    {
      "cell_type": "code",
      "metadata": {
        "id": "O41vxQAA7D3F",
        "colab_type": "code",
        "colab": {}
      },
      "source": [
        "myreview_vect = tfidf_vect.transform(myreview)"
      ],
      "execution_count": 0,
      "outputs": []
    },
    {
      "cell_type": "code",
      "metadata": {
        "id": "3XpxaIwX7ISM",
        "colab_type": "code",
        "colab": {
          "base_uri": "https://localhost:8080/",
          "height": 34
        },
        "outputId": "60203f92-4462-489d-d800-ab944eab3452"
      },
      "source": [
        "print(svm.predict(myreview_vect))"
      ],
      "execution_count": 60,
      "outputs": [
        {
          "output_type": "stream",
          "text": [
            "['negative']\n"
          ],
          "name": "stdout"
        }
      ]
    },
    {
      "cell_type": "code",
      "metadata": {
        "id": "wAPHAjA_8sKB",
        "colab_type": "code",
        "colab": {}
      },
      "source": [
        ""
      ],
      "execution_count": 0,
      "outputs": []
    }
  ]
}